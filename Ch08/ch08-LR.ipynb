{
 "cells": [
  {
   "cell_type": "markdown",
   "id": "4969a2a9",
   "metadata": {},
   "source": [
    "# Chapter08 Regression\n",
    "\n",
    "> https://baike.baidu.com/item/%E7%BA%BF%E6%80%A7%E5%9B%9E%E5%BD%92/8190345\n",
    "> \n",
    "> 线性回归是利用数理统计中回归分析，来确定两种或两种以上变量间相互依赖的定量关系的一种统计分析方法，运用十分广泛。其表达形式为y = w'x+e，e为误差服从均值为0的正态分布\n",
    "\n",
    "回归的一个目的是根据数值型变量进行预测。\n",
    "\n",
    "平方误差：\n",
    "\n",
    "${\\sum^m_{i=1}(y_i-x_i^Tw)^2}$\n",
    "\n",
    "其中， ${x_i^Tw}$ 是回归预测值 ${\\hat y}$\n",
    "\n",
    "对于线性回归而言，最重要的是根据输入值解出回归系数 ${w}$ . 使用最小二乘法求解 ${w}$ ：\n",
    "\n",
    "${\\hat w = (X^TX)^{-1}X^Ty}$\n",
    "\n",
    "其中 ${X^T}$ 为变量矩阵。\n",
    "\n",
    "# 线性回归（Linear Regression）\n",
    "\n",
    "接下来，使用线性回归对数据进行拟合。\n",
    "\n",
    "![](img/img1.png)\n",
    "\n",
    "数据包括三列，其中第一列为常数x0 = 1， 第二列为自变量x1，第三列为观测值y。\n"
   ]
  },
  {
   "cell_type": "code",
   "execution_count": 2,
   "id": "dc029dd5",
   "metadata": {},
   "outputs": [
    {
     "data": {
      "text/plain": [
       "[[1.0, 0.067732], [1.0, 0.42781], [1.0, 0.995731], [1.0, 0.738336]]"
      ]
     },
     "execution_count": 2,
     "metadata": {},
     "output_type": "execute_result"
    }
   ],
   "source": [
    "import regression\n",
    "from numpy import *\n",
    "\n",
    "xArr, yArr = regression.loadDataSet('ex0.txt')\n",
    "xArr[0:4]"
   ]
  },
  {
   "cell_type": "code",
   "execution_count": 3,
   "id": "65ff1c1c",
   "metadata": {},
   "outputs": [
    {
     "data": {
      "text/plain": [
       "[3.176513, 3.816464, 4.550095, 4.256571]"
      ]
     },
     "execution_count": 3,
     "metadata": {},
     "output_type": "execute_result"
    }
   ],
   "source": [
    "yArr[0:4]"
   ]
  },
  {
   "cell_type": "code",
   "execution_count": 4,
   "id": "245b5ab6",
   "metadata": {},
   "outputs": [
    {
     "data": {
      "text/plain": [
       "matrix([[3.00774324],\n",
       "        [1.69532264]])"
      ]
     },
     "execution_count": 4,
     "metadata": {},
     "output_type": "execute_result"
    }
   ],
   "source": [
    "ws = regression.standRegres(xArr, yArr)\n",
    "ws"
   ]
  },
  {
   "cell_type": "code",
   "execution_count": 6,
   "id": "50ff6a35",
   "metadata": {},
   "outputs": [
    {
     "data": {
      "image/png": "[encoded data removed]",
      "text/plain": [
       "<Figure size 432x288 with 1 Axes>"
      ]
     },
     "metadata": {
      "needs_background": "light"
     },
     "output_type": "display_data"
    }
   ],
   "source": [
    "xMat = mat(xArr)\n",
    "yMat = mat(yArr)\n",
    "yHat = xMat*ws\n",
    "\n",
    "import matplotlib.pyplot as plt\n",
    "fig = plt.figure()\n",
    "ax = fig.add_subplot(111)\n",
    "ax.scatter(xMat[:,1].flatten().A[0], yMat.T[:,0].flatten().A[0])\n",
    "# sort x for plotting regression line\n",
    "xCopy = xMat.copy()\n",
    "xCopy.sort(0)\n",
    "yHat = xCopy*ws\n",
    "ax.plot(xCopy[:,1], yHat)\n",
    "plt.show()"
   ]
  },
  {
   "cell_type": "markdown",
   "id": "954bc137",
   "metadata": {},
   "source": [
    "通过简单的线性回归，我们计算出该模型的回归方程为 ${y = 3.00774324*1.0 + 1.69532264 * x_1}$\n",
    "\n",
    "为了对模型效果进行评判，一种方法是计算模型预测值与观测值的相关系数R. 通过 `corrcoef()` 函数，我们可以计算到预测值与观测值十分相似，相关系数约为0.98\n"
   ]
  },
  {
   "cell_type": "code",
   "execution_count": 7,
   "id": "71205db0",
   "metadata": {},
   "outputs": [
    {
     "data": {
      "text/plain": [
       "array([[1.        , 0.98647356],\n",
       "       [0.98647356, 1.        ]])"
      ]
     },
     "execution_count": 7,
     "metadata": {},
     "output_type": "execute_result"
    }
   ],
   "source": [
    "yHat = xMat*ws\n",
    "corrcoef(yHat.T, yMat)"
   ]
  },
  {
   "cell_type": "markdown",
   "id": "1e6441bc",
   "metadata": {},
   "source": [
    "# 局部加权线性回归（Locally Weighted Linear Regression, LWLR）\n",
    "\n",
    "线性回归的一个问题是可能出现欠拟合现象，这是由于它求的是最小均方误差的无偏估计。因此，有些方法允许在估计中引入一些偏差，降低预测的均方误差，从而获得更好的拟合效果。其中一种方法是局部加权线性回归,该算法解出的回归系数为：\n",
    "\n",
    "${\\hat w = (X^TWX)^{-1}X^TWy}$\n",
    "\n",
    "对应python代码为：\n",
    "\n",
    "```python\n",
    "    ws = xTx.I * (xMat.T * (weights * yMat))\n",
    "\n",
    "```\n",
    "\n",
    "其中， ${W}$ 是一个权重矩阵，LWLR通过对每个数据点赋予权重来引入偏差。LWLR一种赋予权重的方式是高斯核（类似于SVM的核），高斯核对应的权重为：\n",
    "\n",
    "${w(i,i)=exp(\\frac{|x^(i)-x|}{-2k^2})}$\n",
    "\n",
    "```python\n",
    "for j in range(m):  \n",
    "        diffMat = testPoint - xMat[j,:]     \n",
    "        weights[j,j] = exp(diffMat*diffMat.T/(-2.0*k**2))\n",
    "```\n",
    "\n",
    "同样，应用上面的数据 `ex0.txt` ，使用LWLR进行建模\n"
   ]
  },
  {
   "cell_type": "code",
   "execution_count": 10,
   "id": "9cdec964",
   "metadata": {},
   "outputs": [
    {
     "data": {
      "text/plain": [
       "array([3.20200665, 3.75940186, 4.53670134, 4.25050564])"
      ]
     },
     "execution_count": 10,
     "metadata": {},
     "output_type": "execute_result"
    }
   ],
   "source": [
    "yHat = regression.lwlrTest(testArr=xArr, xArr=xArr, yArr=yArr, k=0.003)\n",
    "yHat[0:4]"
   ]
  },
  {
   "cell_type": "code",
   "execution_count": 12,
   "id": "bfb710be",
   "metadata": {},
   "outputs": [
    {
     "data": {
      "image/png": "[encoded data removed]",
      "text/plain": [
       "<Figure size 432x288 with 1 Axes>"
      ]
     },
     "metadata": {
      "needs_background": "light"
     },
     "output_type": "display_data"
    }
   ],
   "source": [
    "srtInd = xMat[:,1].argsort(0)\n",
    "xSort = xMat[srtInd][:,0,:]\n",
    "# scatter plot for k=0.003\n",
    "fig = plt.figure()\n",
    "ax = fig.add_subplot(111)\n",
    "ax.scatter(xMat[:,1].flatten().A[0], yMat.T[:,0].flatten().A[0], s=2)\n",
    "ax.plot(xSort[:,1], yHat[srtInd], c='red')\n",
    "plt.show()"
   ]
  },
  {
   "cell_type": "code",
   "execution_count": 13,
   "id": "89abc960",
   "metadata": {},
   "outputs": [
    {
     "data": {
      "image/png": "[encoded data removed]",
      "text/plain": [
       "<Figure size 432x288 with 1 Axes>"
      ]
     },
     "metadata": {
      "needs_background": "light"
     },
     "output_type": "display_data"
    }
   ],
   "source": [
    "yHat = regression.lwlrTest(testArr=xArr, xArr=xArr, yArr=yArr, k=0.01)\n",
    "# scatter plot for k=0.01\n",
    "fig = plt.figure()\n",
    "ax = fig.add_subplot(111)\n",
    "ax.scatter(xMat[:,1].flatten().A[0], yMat.T[:,0].flatten().A[0], s=2)\n",
    "ax.plot(xSort[:,1], yHat[srtInd], c='red')\n",
    "plt.show()"
   ]
  },
  {
   "cell_type": "code",
   "execution_count": 14,
   "id": "8dd0a15b",
   "metadata": {},
   "outputs": [
    {
     "data": {
      "image/png": "[encoded data removed]",
      "text/plain": [
       "<Figure size 432x288 with 1 Axes>"
      ]
     },
     "metadata": {
      "needs_background": "light"
     },
     "output_type": "display_data"
    }
   ],
   "source": [
    "yHat = regression.lwlrTest(testArr=xArr, xArr=xArr, yArr=yArr, k=1.0)\n",
    "# scatter plot for k=0.01\n",
    "fig = plt.figure()\n",
    "ax = fig.add_subplot(111)\n",
    "ax.scatter(xMat[:,1].flatten().A[0], yMat.T[:,0].flatten().A[0], s=2)\n",
    "ax.plot(xSort[:,1], yHat[srtInd], c='red')\n",
    "plt.show()"
   ]
  },
  {
   "cell_type": "markdown",
   "id": "527c0694",
   "metadata": {},
   "source": [
    "可以看到改变k值，即改变点的权重，会影响LWLR拟合的情况。在k=0.003时，出现过拟合；k=1.0时，与LR拟合相当；而当k=0.01时，拟合较好，可以还原数据内在的规律。\n",
    "\n",
    "# 示例：预测鲍鱼的年龄\n",
    "\n",
    "鲍鱼年龄可以由鲍鱼壳的层数推断。\n",
    "\n",
    "首先，构建函数 `rssError()` 计算预测误差\n",
    "\n",
    "```python\n",
    "def rssError(yArr,yHatArr): #yArr and yHatArr both need to be arrays\n",
    "    return ((yArr-yHatArr)**2).sum()\n",
    "```\n",
    "\n",
    "读入数据 `abalone.txt` \n",
    "\n",
    "![](img/img2.png)\n",
    "\n",
    "总共包含4177个样本\n",
    "\n",
    "使用0-99个样本作为训练集"
   ]
  },
  {
   "cell_type": "code",
   "execution_count": 15,
   "id": "40f24a0c",
   "metadata": {},
   "outputs": [],
   "source": [
    "abX, abY = regression.loadDataSet('abalone.txt')\n",
    "yHat01 = regression.lwlrTest(abX[0:99], abX[0:99], abY[0:99], 0.1)\n",
    "yHat1 = regression.lwlrTest(abX[0:99], abX[0:99], abY[0:99], 1.0)\n",
    "yHat10 = regression.lwlrTest(abX[0:99], abX[0:99], abY[0:99], 10)"
   ]
  },
  {
   "cell_type": "markdown",
   "id": "966f5209",
   "metadata": {},
   "source": [
    "计算训练误差"
   ]
  },
  {
   "cell_type": "code",
   "execution_count": 16,
   "id": "363d1548",
   "metadata": {},
   "outputs": [
    {
     "data": {
      "text/plain": [
       "56.78868743050092"
      ]
     },
     "execution_count": 16,
     "metadata": {},
     "output_type": "execute_result"
    }
   ],
   "source": [
    "regression.rssError(abY[0:99], yHat01.T)"
   ]
  },
  {
   "cell_type": "code",
   "execution_count": 17,
   "id": "aecc2f7c",
   "metadata": {},
   "outputs": [
    {
     "data": {
      "text/plain": [
       "429.89056187038"
      ]
     },
     "execution_count": 17,
     "metadata": {},
     "output_type": "execute_result"
    }
   ],
   "source": [
    "regression.rssError(abY[0:99], yHat1.T)"
   ]
  },
  {
   "cell_type": "code",
   "execution_count": 18,
   "id": "26f009df",
   "metadata": {},
   "outputs": [
    {
     "data": {
      "text/plain": [
       "549.1181708827924"
      ]
     },
     "execution_count": 18,
     "metadata": {},
     "output_type": "execute_result"
    }
   ],
   "source": [
    "regression.rssError(abY[0:99], yHat10.T)"
   ]
  },
  {
   "cell_type": "markdown",
   "id": "747aee9a",
   "metadata": {},
   "source": [
    "使用100-199个样本作为测试集，计算测试误差"
   ]
  },
  {
   "cell_type": "code",
   "execution_count": 19,
   "id": "d3c166a8",
   "metadata": {},
   "outputs": [],
   "source": [
    "yHat01 = regression.lwlrTest(abX[100:199], abX[0:99], abY[0:99], 0.1)\n",
    "yHat1 = regression.lwlrTest(abX[100:199], abX[0:99], abY[0:99], 1.0)\n",
    "yHat10 = regression.lwlrTest(abX[100:199], abX[0:99], abY[0:99], 10)"
   ]
  },
  {
   "cell_type": "code",
   "execution_count": 20,
   "id": "f9772916",
   "metadata": {},
   "outputs": [
    {
     "data": {
      "text/plain": [
       "57913.51550155911"
      ]
     },
     "execution_count": 20,
     "metadata": {},
     "output_type": "execute_result"
    }
   ],
   "source": [
    "regression.rssError(abY[100:199], yHat01.T)"
   ]
  },
  {
   "cell_type": "code",
   "execution_count": 21,
   "id": "47d5960d",
   "metadata": {},
   "outputs": [
    {
     "data": {
      "text/plain": [
       "573.5261441895982"
      ]
     },
     "execution_count": 21,
     "metadata": {},
     "output_type": "execute_result"
    }
   ],
   "source": [
    "regression.rssError(abY[100:199], yHat1.T)"
   ]
  },
  {
   "cell_type": "code",
   "execution_count": 22,
   "id": "50f4336f",
   "metadata": {},
   "outputs": [
    {
     "data": {
      "text/plain": [
       "517.5711905381903"
      ]
     },
     "execution_count": 22,
     "metadata": {},
     "output_type": "execute_result"
    }
   ],
   "source": [
    "regression.rssError(abY[100:199], yHat10.T)"
   ]
  },
  {
   "cell_type": "markdown",
   "id": "e73dec60",
   "metadata": {},
   "source": [
    "k=10时，训练误差最大，但测试误差最小。\n",
    "\n",
    "接下来和LR做个比较"
   ]
  },
  {
   "cell_type": "code",
   "execution_count": 23,
   "id": "6133ecfc",
   "metadata": {},
   "outputs": [
    {
     "data": {
      "text/plain": [
       "518.6363153245542"
      ]
     },
     "execution_count": 23,
     "metadata": {},
     "output_type": "execute_result"
    }
   ],
   "source": [
    "ws = regression.standRegres(abX[0:99], abY[0:99])\n",
    "yHat = mat(abX[100:199])*ws\n",
    "regression.rssError(abY[100:199], yHat.T.A)"
   ]
  },
  {
   "cell_type": "markdown",
   "id": "578c3687",
   "metadata": {},
   "source": [
    "LR在该情况下，与k=10的LWLR表现相当，但k=10也不一定是最优的参数。\n",
    "> 如果想要更好的预测效果，应该用10个不同的样本集做10次测试来比较\n",
    "\n",
    "LWLR的问题在于每次都需要对整个数据集进行运算，消耗计算资源\n"
   ]
  },
  {
   "cell_type": "markdown",
   "id": "831553bb",
   "metadata": {},
   "source": [
    "如果特征比样本点多（n > m），即输入矩阵并不是满秩矩阵，而非满秩矩阵求逆时会出现问题。\n",
    "\n",
    "为了解决这类问题，可以使用正则化的回归方法\n",
    "\n",
    "# 岭回归（ridge regression）\n",
    "\n",
    "岭回归就是在矩阵 ${X^TX}$ 上加入 ${\\lambda I}$ 而使得矩阵非奇异，进而能对 ${X^TX + \\lambda I}$ 求逆。 其中 ${I} $为 ${mxm}$ 的单位矩阵，对角线上元素为1，其他所有元素为0。而 ${\\lambda}$ 是人为定义的数值，该算法解出的回归系数为：\n",
    "\n",
    "${\\hat w = (X^TX + \\lambda I)^{-1}X^Ty}$\n",
    "\n",
    "python 实现：\n",
    "\n",
    "```python\n",
    "     xTx = xMat.T*xMat\n",
    "     denom = xTx + eye(shape(xMat)[1])*lam\n",
    "     ws = denom.I * (xMat.T*yMat)\n",
    "```\n",
    "岭回归通过引入 ${\\lambda }$ 来限制所有w之和，通过引入该惩罚项，减少不重要的参数\n",
    "\n",
    "使用鲍鱼示例中所有数据进行岭回归"
   ]
  },
  {
   "cell_type": "code",
   "execution_count": 24,
   "id": "2f7508e7",
   "metadata": {},
   "outputs": [
    {
     "data": {
      "text/plain": [
       "array([[ 0.04304419, -0.02274163,  0.13214088,  0.02075182,  2.22403745,\n",
       "        -0.99895298, -0.11725424,  0.16622922],\n",
       "       [ 0.04304419, -0.02274164,  0.13214088,  0.02075182,  2.22403626,\n",
       "        -0.99895275, -0.11725417,  0.16622934],\n",
       "       [ 0.04304419, -0.02274164,  0.13214088,  0.02075182,  2.22403305,\n",
       "        -0.99895211, -0.117254  ,  0.16622966],\n",
       "       [ 0.04304417, -0.02274166,  0.1321409 ,  0.02075182,  2.22402431,\n",
       "        -0.99895038, -0.11725354,  0.16623052]])"
      ]
     },
     "execution_count": 24,
     "metadata": {},
     "output_type": "execute_result"
    }
   ],
   "source": [
    "ridgeWeights = regression.ridgeTest(abX,abY)\n",
    "ridgeWeights[0:4]"
   ]
  },
  {
   "cell_type": "code",
   "execution_count": 25,
   "id": "ca5fb167",
   "metadata": {},
   "outputs": [
    {
     "data": {
      "image/png": "[encoded data removed]",
      "text/plain": [
       "<Figure size 432x288 with 1 Axes>"
      ]
     },
     "metadata": {
      "needs_background": "light"
     },
     "output_type": "display_data"
    }
   ],
   "source": [
    "fig = plt.figure()\n",
    "ax = fig.add_subplot(111)\n",
    "ax.plot(ridgeWeights)\n",
    "plt.show()"
   ]
  },
  {
   "cell_type": "markdown",
   "id": "4df8f3ad",
   "metadata": {},
   "source": [
    "# lasso\n",
    "\n",
    "lasso对回归系数的限定为：\n",
    "\n",
    "${\\sum^n_{k=1} |w_k| \\leq \\lambda}$\n",
    "\n"
   ]
  },
  {
   "cell_type": "markdown",
   "id": "6f672d05",
   "metadata": {},
   "source": [
    "# 小结\n",
    "\n",
    "- 回归是预测连续型变量的方法。\n",
    "\n",
    "- 在回归方程里，求得特征对应的最佳回归系数的方法是最小化误差的平方和\n"
   ]
  }
 ],
 "metadata": {
  "kernelspec": {
   "display_name": "Python 3 (ipykernel)",
   "language": "python",
   "name": "python3"
  },
  "language_info": {
   "codemirror_mode": {
    "name": "ipython",
    "version": 3
   },
   "file_extension": ".py",
   "mimetype": "text/x-python",
   "name": "python",
   "nbconvert_exporter": "python",
   "pygments_lexer": "ipython3",
   "version": "3.9.7"
  }
 },
 "nbformat": 4,
 "nbformat_minor": 5
}
