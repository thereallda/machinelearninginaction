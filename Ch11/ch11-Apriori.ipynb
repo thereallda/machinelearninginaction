{
 "cells": [
  {
   "cell_type": "markdown",
   "id": "2a403a0e",
   "metadata": {},
   "source": [
    "# Chapter 11 Apriori\n",
    "\n",
    "关联分析是一种在大规模数据集中寻找关系的任务。这些关系有两种形式：\n",
    "- 频繁项集（frequent item sets）：经常同时出现的项目的集合\n",
    "- 关联规则（association rules）：两种项目间的强相关性\n",
    "\n",
    "对于以上两种关系，有两种相应的指标量化这些关系，分别是：\n",
    "- 支持度（support）：数据集中某项目所占的比例\n",
    "- 置信度（confidence）：两个项目间的关联性的量化指标，例如 ${A --> B}$的置信度为 ${support(A \\cup B)/support(A)}$\n",
    "\n",
    "## Apriori 原理\n",
    "\n",
    "Apriori原理：如果一个项目是频繁集，那么它的所有子集都是频繁集；反过来说，如果一个项目是非频繁集，那么它的所有超集都是非频繁集。\n",
    "\n",
    "应用Apriori原理可以避免关联分析时，分析项集数目的指数增长。\n",
    "\n",
    "## 使用Apriori算法发现频繁集\n",
    "\n",
    "关联分析的目标包括：发现频繁集和发现关联规则。首先需要先找到频繁集，才能获得关联规则。\n",
    "\n",
    "Apriori算法发现购物记录的频繁集的工作流程：\n",
    "1. 生成所有单个物品的集合\n",
    "2. 扫描交易记录查看哪些项集满足最小支持度要求，去掉不满足的项集\n",
    "3. 对余下的集合进行组合生成包含两个的项集，重复步骤2\n",
    "4. 合并余下集合生成n+1的集合，再重复步骤2，直到所有集合都去掉\n",
    "\n"
   ]
  },
  {
   "cell_type": "code",
   "execution_count": 1,
   "id": "a329a4ac",
   "metadata": {},
   "outputs": [
    {
     "data": {
      "text/plain": [
       "[[1, 3, 4], [2, 3, 5], [1, 2, 3, 5], [2, 5]]"
      ]
     },
     "execution_count": 1,
     "metadata": {},
     "output_type": "execute_result"
    }
   ],
   "source": [
    "import apriori\n",
    "dataSet = apriori.loadDataSet()\n",
    "dataSet"
   ]
  },
  {
   "cell_type": "code",
   "execution_count": 2,
   "id": "d33aad2a",
   "metadata": {},
   "outputs": [
    {
     "data": {
      "text/plain": [
       "[frozenset({1}),\n",
       " frozenset({2}),\n",
       " frozenset({3}),\n",
       " frozenset({4}),\n",
       " frozenset({5})]"
      ]
     },
     "execution_count": 2,
     "metadata": {},
     "output_type": "execute_result"
    }
   ],
   "source": [
    "# 创建第一个候选集合C1\n",
    "C1 = apriori.createC1(dataSet)\n",
    "C1"
   ]
  },
  {
   "cell_type": "code",
   "execution_count": 3,
   "id": "eb494c0d",
   "metadata": {},
   "outputs": [
    {
     "data": {
      "text/plain": [
       "[{1, 3, 4}, {2, 3, 5}, {1, 2, 3, 5}, {2, 5}]"
      ]
     },
     "execution_count": 3,
     "metadata": {},
     "output_type": "execute_result"
    }
   ],
   "source": [
    "D = list(map(set, dataSet))\n",
    "D"
   ]
  },
  {
   "cell_type": "code",
   "execution_count": 4,
   "id": "a3e8a666",
   "metadata": {},
   "outputs": [
    {
     "data": {
      "text/plain": [
       "[frozenset({5}), frozenset({2}), frozenset({3}), frozenset({1})]"
      ]
     },
     "execution_count": 4,
     "metadata": {},
     "output_type": "execute_result"
    }
   ],
   "source": [
    "L1, suppData0 = apriori.scanD(D=D, Ck=C1, minSupport=0.5)\n",
    "L1"
   ]
  },
  {
   "cell_type": "markdown",
   "id": "78d84e3e",
   "metadata": {},
   "source": [
    "L1 列表中的每个包含单一物品的项目出现在50%以上的记录中。\n"
   ]
  },
  {
   "cell_type": "code",
   "execution_count": 6,
   "id": "711deb1c",
   "metadata": {},
   "outputs": [
    {
     "data": {
      "text/plain": [
       "[[frozenset({5}), frozenset({2}), frozenset({3}), frozenset({1})],\n",
       " [frozenset({2, 3}), frozenset({3, 5}), frozenset({2, 5}), frozenset({1, 3})],\n",
       " [frozenset({2, 3, 5})],\n",
       " []]"
      ]
     },
     "execution_count": 6,
     "metadata": {},
     "output_type": "execute_result"
    }
   ],
   "source": [
    "from importlib import reload\n",
    "reload(apriori)\n",
    "L, suppData = apriori.apriori(dataSet=dataSet, minSupport=0.5)\n",
    "L"
   ]
  },
  {
   "cell_type": "markdown",
   "id": "c456c3ae",
   "metadata": {},
   "source": [
    "L 包含了出现在50%以上记录的项目\n",
    "\n",
    "## 使用Apriori算法发现关联规则\n",
    "\n"
   ]
  },
  {
   "cell_type": "code",
   "execution_count": 7,
   "id": "383546d0",
   "metadata": {},
   "outputs": [
    {
     "name": "stdout",
     "output_type": "stream",
     "text": [
      "frozenset({5}) --> frozenset({2}) conf: 1.0\n",
      "frozenset({2}) --> frozenset({5}) conf: 1.0\n",
      "frozenset({1}) --> frozenset({3}) conf: 1.0\n"
     ]
    }
   ],
   "source": [
    "rules = apriori.generateRules(L, suppData, 0.7)"
   ]
  },
  {
   "cell_type": "markdown",
   "id": "f92f626d",
   "metadata": {},
   "source": [
    "`generateRules()` 函数输出了项集之间的关联规则，其中\n",
    "\n",
    "如果出现5，也会出现2\n",
    "\n",
    "  出现2，也会出现5\n",
    "  \n",
    "  出现1，也会出现3\n",
    "  \n",
    "\n",
    "# 小结\n",
    "\n",
    "- 关联分析是发现大数据集中元素间关系的工具。\n",
    "- Apriori算法可以降低发现元素项间不同的组合所需的时间\n"
   ]
  }
 ],
 "metadata": {
  "kernelspec": {
   "display_name": "Python 3 (ipykernel)",
   "language": "python",
   "name": "python3"
  },
  "language_info": {
   "codemirror_mode": {
    "name": "ipython",
    "version": 3
   },
   "file_extension": ".py",
   "mimetype": "text/x-python",
   "name": "python",
   "nbconvert_exporter": "python",
   "pygments_lexer": "ipython3",
   "version": "3.9.7"
  }
 },
 "nbformat": 4,
 "nbformat_minor": 5
}
