{
 "cells": [
  {
   "attachments": {},
   "cell_type": "markdown",
   "id": "192d67ff",
   "metadata": {},
   "source": [
    "# Chapter03 Decision Tree\n",
    "\n",
    "> 这里用到的脚本在章节目录的文件夹中都可以找到，就不再贴在此处了，只展示用法\n",
    "\n",
    "摘自：[决策树 – Decision tree](https://easyai.tech/ai-definition/decision-tree/)\n",
    "\n",
    "决策树是一种分类算法，其采用树形结构，使用层层推理来实现最终的分类。决策树由下面几种元素构成：\n",
    "\n",
    "- 根节点：包含样本的全集\n",
    "- 内部节点：对应特征属性测试\n",
    "- 叶节点：代表决策的结果\n",
    "\n",
    "![决策树的结构](https://easy-ai.oss-cn-shanghai.aliyuncs.com/2019-09-17-jiegou.png)\n",
    "\n",
    "预测时，在树的内部节点处用某一属性值进行判断，根据判断结果决定进入哪个分支节点，直到到达叶节点处，得到分类结果。\n",
    "\n",
    "**决策树学习的三个步骤**\n",
    "![image.png](https://easy-ai.oss-cn-shanghai.aliyuncs.com/2019-09-17-3steps.png)\n",
    "\n",
    "\n",
    "\n",
    "**典型决策树算法**\n",
    "1. ID3 (本节书中用到的方法)\n",
    "2. C4.5\n",
    "3. CART\n",
    "\n",
    "\n",
    "## 决策树特征\n",
    "\n",
    "监督式学习方法\n",
    "\n",
    "- 优点：计算复杂度不高，输出结果易于理解，对中间值的缺失不敏感，可以处理不相关特征数据\n",
    "- 缺点：可能会产生过度匹配的问题\n",
    "\n",
    "# 决策树的构造\n",
    "\n",
    "使用书中的海洋生物数据进行决策树算法的演示：\n",
    "\n",
    "| 不浮出水面是否可以生存 | 是否具有脚蹼 | 属于鱼类 |\n",
    "|----------------------|-----|------|\n",
    "| yes                  | yes | yes  |\n",
    "| yes                  | yes | yes  |\n",
    "| yes                  | no  | no   |\n",
    "| no                   | yes | no   |\n",
    "| no                   | yes | no   |\n",
    "\n",
    "我们将前两列转换为0，1值作为特征，第三列作为标签，构建数据集。"
   ]
  },
  {
   "cell_type": "code",
   "execution_count": 7,
   "id": "4552fbde",
   "metadata": {},
   "outputs": [
    {
     "data": {
      "text/plain": [
       "[[1, 1, 'yes'], [1, 1, 'yes'], [1, 0, 'no'], [0, 1, 'no'], [0, 1, 'no']]"
      ]
     },
     "execution_count": 7,
     "metadata": {},
     "output_type": "execute_result"
    }
   ],
   "source": [
    "import trees\n",
    "myDat, labels=trees.createDataSet()\n",
    "myDat"
   ]
  },
  {
   "cell_type": "markdown",
   "id": "c29ab829",
   "metadata": {},
   "source": [
    "决策树对数据的分类是通过对数据不断划分而实现的。划分数据集的大原则是：将无需的数据变得更加有序。而对数据有序程度的一种衡量方法是熵（entropy）。有序组织的数据当中包含较少的冗余信息，熵也较小；反之，杂乱无章的数据的具有更多的冗余信息，熵会较高。\n",
    "\n",
    "> https://zh.wikipedia.org/wiki/%E7%86%B5_(%E4%BF%A1%E6%81%AF%E8%AE%BA)\n",
    "\n",
    "因此，我们可以用香农熵评估数据划分的效果\n",
    "\n",
    "香农熵的计算公式如下：\n",
    "\n",
    "${H(X)=E[I(X)]=E[-ln(P(X))]}$\n",
    "\n",
    "其中，P为X的概率函数，E为期望函数，而I(X)是X的信息量（又称为自信息）。I(X)本身是个随机变数。\n",
    "\n",
    "当样本数量有限时，上式可写为：\n",
    "\n",
    "${H(X)=-\\sum^{n}_{i=1} p(x_i) log_2 p(x_i)}$\n",
    "\n",
    "接着，我们使用函数 `trees.calcShannonEnt(dataSet)` 计算香农熵"
   ]
  },
  {
   "cell_type": "code",
   "execution_count": 4,
   "id": "2d3b0a5b",
   "metadata": {},
   "outputs": [
    {
     "data": {
      "text/plain": [
       "0.9709505944546686"
      ]
     },
     "execution_count": 4,
     "metadata": {},
     "output_type": "execute_result"
    }
   ],
   "source": [
    "trees.calcShannonEnt(myDat)"
   ]
  },
  {
   "cell_type": "markdown",
   "id": "c6b6f831",
   "metadata": {},
   "source": [
    "如果熵越高，说明数据的混合程度（无序性）也越高。我们在这组数据中添加分类，再计算香农熵："
   ]
  },
  {
   "cell_type": "code",
   "execution_count": 5,
   "id": "fe1682ef",
   "metadata": {},
   "outputs": [
    {
     "data": {
      "text/plain": [
       "[[1, 1, 'maybe'], [1, 1, 'yes'], [1, 0, 'no'], [0, 1, 'no'], [0, 1, 'no']]"
      ]
     },
     "execution_count": 5,
     "metadata": {},
     "output_type": "execute_result"
    }
   ],
   "source": [
    "myDat[0][-1] = 'maybe'\n",
    "myDat"
   ]
  },
  {
   "cell_type": "code",
   "execution_count": 6,
   "id": "6f40b22b",
   "metadata": {},
   "outputs": [
    {
     "data": {
      "text/plain": [
       "1.3709505944546687"
      ]
     },
     "execution_count": 6,
     "metadata": {},
     "output_type": "execute_result"
    }
   ],
   "source": [
    "trees.calcShannonEnt(myDat)"
   ]
  },
  {
   "cell_type": "markdown",
   "id": "4edcc196",
   "metadata": {},
   "source": [
    "熵是我们评估数据集有序性的方法。对于分类算法来说，我们需要的是根据**特征**切分数据集，然后利用熵评估子数据集的有序性，以此判断分类是否正确。\n",
    "\n",
    "我们以第一列特征展示如何使用 `trees.splitDataSet(dataSet, axis, value)` 切分数据集。"
   ]
  },
  {
   "cell_type": "code",
   "execution_count": 8,
   "id": "297ac485",
   "metadata": {},
   "outputs": [
    {
     "data": {
      "text/plain": [
       "[[1, 'yes'], [1, 'yes'], [0, 'no']]"
      ]
     },
     "execution_count": 8,
     "metadata": {},
     "output_type": "execute_result"
    }
   ],
   "source": [
    "from importlib import reload\n",
    "reload(trees)\n",
    "myDat, labels=trees.createDataSet()\n",
    "trees.splitDataSet(myDat, 0, 1) #first column equals to 1?"
   ]
  },
  {
   "cell_type": "code",
   "execution_count": 9,
   "id": "573d51ea",
   "metadata": {},
   "outputs": [
    {
     "data": {
      "text/plain": [
       "[[1, 'no'], [1, 'no']]"
      ]
     },
     "execution_count": 9,
     "metadata": {},
     "output_type": "execute_result"
    }
   ],
   "source": [
    "trees.splitDataSet(myDat, 0, 0) #first column equals to 0?"
   ]
  },
  {
   "cell_type": "markdown",
   "id": "f34c96a1",
   "metadata": {},
   "source": [
    "我们根据 `value` 的值将原数据集切分成了两个子数据集。\n",
    "\n",
    "通常，我们需要尝试使用数据集中的多个特征值对数据集进行切分来获得最优的特征。\n",
    "\n",
    "这里使用 `trees.chooseBestFeatureToSplit(dataSet)` 来遍历整个数据集，通过判断子数据集熵的方法来获得最优分类特征。\n"
   ]
  },
  {
   "cell_type": "code",
   "execution_count": 10,
   "id": "6b86dfba",
   "metadata": {},
   "outputs": [
    {
     "data": {
      "text/plain": [
       "0"
      ]
     },
     "execution_count": 10,
     "metadata": {},
     "output_type": "execute_result"
    }
   ],
   "source": [
    "trees.chooseBestFeatureToSplit(myDat)"
   ]
  },
  {
   "cell_type": "markdown",
   "id": "a4805377",
   "metadata": {},
   "source": [
    "该函数表明最优的划分特征是第一列，也就是该海洋生物“不浮出水面是否可以生存”。这里分别手动计算两种情况的香农熵，比较一下"
   ]
  },
  {
   "cell_type": "code",
   "execution_count": 16,
   "id": "8566da89",
   "metadata": {},
   "outputs": [
    {
     "data": {
      "text/plain": [
       "0.9182958340544896"
      ]
     },
     "execution_count": 16,
     "metadata": {},
     "output_type": "execute_result"
    }
   ],
   "source": [
    "trees.calcShannonEnt(trees.splitDataSet(myDat, 0, 0)) + trees.calcShannonEnt(trees.splitDataSet(myDat, 0, 1)) "
   ]
  },
  {
   "cell_type": "code",
   "execution_count": 17,
   "id": "6511f0c8",
   "metadata": {},
   "outputs": [
    {
     "data": {
      "text/plain": [
       "1.0"
      ]
     },
     "execution_count": 17,
     "metadata": {},
     "output_type": "execute_result"
    }
   ],
   "source": [
    "trees.calcShannonEnt(trees.splitDataSet(myDat, 1, 0)) + trees.calcShannonEnt(trees.splitDataSet(myDat, 1, 1)) "
   ]
  },
  {
   "cell_type": "markdown",
   "id": "0f548364",
   "metadata": {},
   "source": [
    "可以发现使用第二列划分数据时的熵要大于使用第一列，证明第一列是当前最优的分类特征\n",
    "\n",
    "接下来，使用 `createTree(dataSet, labels)` 函数来创建决策树"
   ]
  },
  {
   "cell_type": "code",
   "execution_count": 21,
   "id": "871115f6",
   "metadata": {},
   "outputs": [
    {
     "data": {
      "text/plain": [
       "{'no surfacing': {0: 'no', 1: {'flippers': {0: 'no', 1: 'yes'}}}}"
      ]
     },
     "execution_count": 21,
     "metadata": {},
     "output_type": "execute_result"
    }
   ],
   "source": [
    "reload(trees)\n",
    "myDat, labels = trees.createDataSet()\n",
    "myTree = trees.createTree(myDat, labels)\n",
    "myTree"
   ]
  },
  {
   "cell_type": "markdown",
   "id": "93cf2521",
   "metadata": {},
   "source": [
    "`myTree` 是一个嵌套字典，代表了我们的树结构，其中如果值是类标签，则代表了一个叶节点，如果是一个字典，那就是一个内部判断节点。\n",
    "\n",
    "接下来，根据 `treePlotter.createPlot(inTree)` 绘制树形图"
   ]
  },
  {
   "cell_type": "code",
   "execution_count": 22,
   "id": "531a762e",
   "metadata": {},
   "outputs": [
    {
     "data": {
      "image/png": "[encoded data removed]",
      "text/plain": [
       "<Figure size 432x288 with 1 Axes>"
      ]
     },
     "metadata": {},
     "output_type": "display_data"
    }
   ],
   "source": [
    "import treePlotter\n",
    "myTree = treePlotter.retrieveTree(0) #pre-stored tree \n",
    "treePlotter.createPlot(myTree)"
   ]
  },
  {
   "cell_type": "markdown",
   "id": "54c0f361",
   "metadata": {},
   "source": [
    "通过对决策树的可视化，我们可以发现该决策树的分类流程：\n",
    "1. 判断输入向量的第一个特征“是否可以浮出水面生活”，如果为1则进入下一级判断；为0则分类为“非鱼类（no）”\n",
    "2. 判断输入向量的第二个特征“是否具有脚蹼”，如果为1则分类为“鱼类（yes）”；为0则分类为“非鱼类（no）”\n",
    "\n",
    "\n",
    "# 测试算法：使用决策树执行分类\n",
    "\n",
    "构建决策树后，我们可以输入特征向量给决策树，看它的分类结果"
   ]
  },
  {
   "cell_type": "code",
   "execution_count": 23,
   "id": "4a58669c",
   "metadata": {},
   "outputs": [
    {
     "data": {
      "text/plain": [
       "{'no surfacing': {0: 'no', 1: {'flippers': {0: 'no', 1: 'yes'}}}}"
      ]
     },
     "execution_count": 23,
     "metadata": {},
     "output_type": "execute_result"
    }
   ],
   "source": [
    "reload(trees)\n",
    "myDat, labels = trees.createDataSet()\n",
    "myTree = treePlotter.retrieveTree(0) #pre-stored tree \n",
    "myTree"
   ]
  },
  {
   "cell_type": "code",
   "execution_count": 25,
   "id": "c609e2a5",
   "metadata": {},
   "outputs": [
    {
     "data": {
      "text/plain": [
       "'no'"
      ]
     },
     "execution_count": 25,
     "metadata": {},
     "output_type": "execute_result"
    }
   ],
   "source": [
    "trees.classify(myTree, labels, [1,0])"
   ]
  },
  {
   "cell_type": "code",
   "execution_count": 28,
   "id": "595ed963",
   "metadata": {},
   "outputs": [
    {
     "data": {
      "text/plain": [
       "'yes'"
      ]
     },
     "execution_count": 28,
     "metadata": {},
     "output_type": "execute_result"
    }
   ],
   "source": [
    "trees.classify(myTree, labels, [1,1])"
   ]
  },
  {
   "cell_type": "markdown",
   "id": "a6d60fa6",
   "metadata": {},
   "source": [
    "比较上面的树结构，当第一列为1且第二列为0时，输出标签为 `no`; 当第一列为1且第二列为1时，输出标签为 `yes`\n",
    "\n",
    "\n",
    "# 示例：使用决策树预测隐形眼镜适用类型"
   ]
  },
  {
   "cell_type": "code",
   "execution_count": 30,
   "id": "aa4a4a70",
   "metadata": {},
   "outputs": [
    {
     "data": {
      "text/plain": [
       "{'tearRate': {'normal': {'astigmatic': {'yes': {'prescript': {'hyper': {'age': {'pre': 'no lenses',\n",
       "        'presbyopic': 'no lenses',\n",
       "        'young': 'hard'}},\n",
       "      'myope': 'hard'}},\n",
       "    'no': {'age': {'pre': 'soft',\n",
       "      'presbyopic': {'prescript': {'hyper': 'soft', 'myope': 'no lenses'}},\n",
       "      'young': 'soft'}}}},\n",
       "  'reduced': 'no lenses'}}"
      ]
     },
     "execution_count": 30,
     "metadata": {},
     "output_type": "execute_result"
    }
   ],
   "source": [
    "fr = open('lenses.txt')\n",
    "lenses = [inst.strip().split('\\t') for inst in fr.readlines()]\n",
    "lensesLabels = ['age', 'prescript', 'astigmatic', 'tearRate']\n",
    "lensesTree = trees.createTree(lenses, lensesLabels)\n",
    "lensesTree"
   ]
  },
  {
   "cell_type": "code",
   "execution_count": 31,
   "id": "837a372d",
   "metadata": {},
   "outputs": [
    {
     "data": {
      "image/png": "[encoded data removed]",
      "text/plain": [
       "<Figure size 432x288 with 1 Axes>"
      ]
     },
     "metadata": {},
     "output_type": "display_data"
    }
   ],
   "source": [
    "treePlotter.createPlot(lensesTree)"
   ]
  },
  {
   "cell_type": "markdown",
   "id": "7e771467",
   "metadata": {},
   "source": [
    "上述决策树告诉我们最多输入四个向量，我们就可以完成对隐形眼镜类型的分类。"
   ]
  }
 ],
 "metadata": {
  "kernelspec": {
   "display_name": "Python 3 (ipykernel)",
   "language": "python",
   "name": "python3"
  },
  "language_info": {
   "codemirror_mode": {
    "name": "ipython",
    "version": 3
   },
   "file_extension": ".py",
   "mimetype": "text/x-python",
   "name": "python",
   "nbconvert_exporter": "python",
   "pygments_lexer": "ipython3",
   "version": "3.9.7"
  }
 },
 "nbformat": 4,
 "nbformat_minor": 5
}
