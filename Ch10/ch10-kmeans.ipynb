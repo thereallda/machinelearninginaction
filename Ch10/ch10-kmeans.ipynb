{
 "cells": [
  {
   "cell_type": "markdown",
   "id": "2a403a0e",
   "metadata": {},
   "source": [
    "# Chapter 10 kMeans clustering\n",
    "\n",
    "聚类是一种无监督式学习的方法，将相似的对象归类到一个簇中。k-means clustering是一种常用的聚类算法，它会将数据划分为k个簇。\n",
    "\n",
    "## k均值聚类的特点\n",
    "\n",
    "- 优点：容易实现\n",
    "- 缺点：可能收敛到局部最小值；在大型数据集上较慢\n",
    "\n",
    "## k均值聚类的工作流程\n",
    "\n",
    "1. 随机确定k个起始点作为质心\n",
    "2. 计算数据中每个点与质心的距离\n",
    "3. 分配数据点到其距离最小的质心所在的簇\n",
    "\n",
    "使用示例数据 \"testSet.txt\" 演示kMeans clustering\n"
   ]
  },
  {
   "cell_type": "code",
   "execution_count": 1,
   "id": "d8581575",
   "metadata": {},
   "outputs": [
    {
     "data": {
      "text/plain": [
       "matrix([[ 1.658985,  4.285136],\n",
       "        [-3.453687,  3.424321],\n",
       "        [ 4.838138, -1.151539],\n",
       "        [-5.379713, -3.362104]])"
      ]
     },
     "execution_count": 1,
     "metadata": {},
     "output_type": "execute_result"
    }
   ],
   "source": [
    "import kMeans\n",
    "from numpy import *\n",
    "datMat = mat(kMeans.loadDataSet('testSet.txt'))\n",
    "datMat[0:4,]"
   ]
  },
  {
   "cell_type": "code",
   "execution_count": 7,
   "id": "5414620b",
   "metadata": {},
   "outputs": [
    {
     "data": {
      "image/png": "[encoded data removed]",
      "text/plain": [
       "<Figure size 432x288 with 1 Axes>"
      ]
     },
     "metadata": {
      "needs_background": "light"
     },
     "output_type": "display_data"
    }
   ],
   "source": [
    "import matplotlib.pyplot as plt\n",
    "fig = plt.figure()\n",
    "ax = fig.add_subplot(111)\n",
    "ax.scatter(datMat[:,0].flatten().A[0], datMat[:,1].flatten().A[0])\n",
    "plt.show()"
   ]
  },
  {
   "cell_type": "markdown",
   "id": "715ce9f6",
   "metadata": {},
   "source": [
    "使用欧氏距离计算点之间的距离 ${\\sqrt {\\sum (x_i - y_i)^2}}$\n",
    "\n",
    "```python\n",
    "def distEclud(vecA, vecB):\n",
    "    return sqrt(sum(power(vecA - vecB, 2))) #la.norm(vecA-vecB)\n",
    "```\n"
   ]
  },
  {
   "cell_type": "code",
   "execution_count": 8,
   "id": "f7612738",
   "metadata": {},
   "outputs": [
    {
     "name": "stdout",
     "output_type": "stream",
     "text": [
      "[[-4.24056301 -3.71259127]\n",
      " [-1.58811347 -0.82376201]\n",
      " [ 0.63781919 -3.00109075]\n",
      " [ 4.64582704 -0.79793511]]\n",
      "[[-3.65056025 -3.06854812]\n",
      " [-2.256007    2.09223456]\n",
      " [ 2.21573353 -3.24189747]\n",
      " [ 3.05350329  2.07347767]]\n",
      "[[-3.53973889 -2.89384326]\n",
      " [-2.46154315  2.78737555]\n",
      " [ 2.56468005 -2.8885874 ]\n",
      " [ 2.70967829  2.9214931 ]]\n",
      "[[-3.53973889 -2.89384326]\n",
      " [-2.46154315  2.78737555]\n",
      " [ 2.65077367 -2.79019029]\n",
      " [ 2.6265299   3.10868015]]\n"
     ]
    }
   ],
   "source": [
    "myCentroids, clustAssing = kMeans.kMeans(dataSet=datMat, k=4)"
   ]
  },
  {
   "cell_type": "code",
   "execution_count": 9,
   "id": "de8b623a",
   "metadata": {},
   "outputs": [
    {
     "data": {
      "text/plain": [
       "matrix([[-3.53973889, -2.89384326],\n",
       "        [-2.46154315,  2.78737555],\n",
       "        [ 2.65077367, -2.79019029],\n",
       "        [ 2.6265299 ,  3.10868015]])"
      ]
     },
     "execution_count": 9,
     "metadata": {},
     "output_type": "execute_result"
    }
   ],
   "source": [
    "myCentroids"
   ]
  },
  {
   "cell_type": "code",
   "execution_count": 11,
   "id": "98e21c77",
   "metadata": {},
   "outputs": [
    {
     "data": {
      "text/plain": [
       "matrix([[3.        , 2.3201915 ],\n",
       "        [1.        , 1.39004893],\n",
       "        [2.        , 7.46974076],\n",
       "        [0.        , 3.60477283]])"
      ]
     },
     "execution_count": 11,
     "metadata": {},
     "output_type": "execute_result"
    }
   ],
   "source": [
    "clustAssing[0:4,]"
   ]
  },
  {
   "cell_type": "code",
   "execution_count": 14,
   "id": "ce8743f3",
   "metadata": {},
   "outputs": [
    {
     "data": {
      "image/png": "[encoded data removed]",
      "text/plain": [
       "<Figure size 432x288 with 1 Axes>"
      ]
     },
     "metadata": {
      "needs_background": "light"
     },
     "output_type": "display_data"
    }
   ],
   "source": [
    "import matplotlib.pyplot as plt\n",
    "fig = plt.figure()\n",
    "ax = fig.add_subplot(111)\n",
    "ax.scatter(datMat[:,0].flatten().A[0], datMat[:,1].flatten().A[0], c=clustAssing[:,0].flatten().A[0])\n",
    "ax.scatter(myCentroids[:,0].flatten().A[0], myCentroids[:,1].flatten().A[0], marker='^', c='r')\n",
    "plt.show()"
   ]
  },
  {
   "cell_type": "markdown",
   "id": "b0821c41",
   "metadata": {},
   "source": [
    "> `flatten()` 转换nxm的矩阵为${1x(n*m)}$的矩阵\n",
    "> \n",
    "> `A` 转换为array\n",
    "\n",
    "`kMeans` 函数打印了每次迭代过程中，质心的值。第一次打印的是随机选取的质心，随后三次迭代过程中打印的是当前簇的质心。\n",
    "\n",
    "函数返回最后聚类的质心 `myCentroids` , 以及每个数据点的类别 `clustAssing` ，其中一行对应一个点，第一列是分到的类，第二列是点与质心的距离的平方(也就是分类的误差)。上图绘制了数据点k均值聚类的结果，每一簇用一个颜色代表，质心为红色三角形。\n",
    "\n",
    "一种用于度量聚类效果的指标为SSE（Sum of Squared Error）.\n",
    "\n",
    "# 二分k均值（bisecting K-means）\n",
    "\n",
    "该算法先将所有点当作一个簇，然后进行二分。选择SSE较大的簇进行划分，直到指定的k值。\n",
    "\n",
    "使用示例数据 \"testSet2.txt\" 演示"
   ]
  },
  {
   "cell_type": "code",
   "execution_count": 15,
   "id": "ccbb5c6e",
   "metadata": {},
   "outputs": [
    {
     "data": {
      "text/plain": [
       "(60, 2)"
      ]
     },
     "execution_count": 15,
     "metadata": {},
     "output_type": "execute_result"
    }
   ],
   "source": [
    "datMat2 = mat(kMeans.loadDataSet('testSet2.txt'))\n",
    "shape(datMat2)"
   ]
  },
  {
   "cell_type": "code",
   "execution_count": 16,
   "id": "0fa968c6",
   "metadata": {},
   "outputs": [
    {
     "data": {
      "image/png": "[encoded data removed]",
      "text/plain": [
       "<Figure size 432x288 with 1 Axes>"
      ]
     },
     "metadata": {
      "needs_background": "light"
     },
     "output_type": "display_data"
    }
   ],
   "source": [
    "import matplotlib.pyplot as plt\n",
    "fig = plt.figure()\n",
    "ax = fig.add_subplot(111)\n",
    "ax.scatter(datMat2[:,0].flatten().A[0], datMat2[:,1].flatten().A[0])\n",
    "plt.show()"
   ]
  },
  {
   "cell_type": "code",
   "execution_count": 18,
   "id": "8daba1f9",
   "metadata": {},
   "outputs": [
    {
     "name": "stdout",
     "output_type": "stream",
     "text": [
      "[[ 0.12647932 -2.18275547]\n",
      " [ 1.12101035 -0.42092755]]\n",
      "[[-0.45965615 -2.7782156 ]\n",
      " [-0.00675605  3.22710297]]\n",
      "sseSplit, and notSplit:  453.0334895807502 0.0\n",
      "the bestCentToSplit is:  0\n",
      "the len of bestClustAss is:  60\n",
      "[[-1.46774191 -1.90532129]\n",
      " [-0.39316516 -2.40320424]]\n",
      "[[-1.41084317 -1.873139  ]\n",
      " [-0.05200457 -3.16610557]]\n",
      "[[-1.31198114e+00 -1.96162114e+00]\n",
      " [-7.11923077e-04 -3.21792031e+00]]\n",
      "[[-1.26873575 -2.07139688]\n",
      " [ 0.07973025 -3.24942808]]\n",
      "[[-1.26405367 -2.209896  ]\n",
      " [ 0.19848727 -3.24320436]]\n",
      "[[-1.1836084 -2.2507069]\n",
      " [ 0.2642961 -3.3057243]]\n",
      "[[-1.12616164 -2.30193564]\n",
      " [ 0.35496167 -3.36033556]]\n",
      "sseSplit, and notSplit:  12.753263136887313 423.8762401366249\n",
      "[[ 3.48821305  2.92792743]\n",
      " [-1.96077688  1.1994377 ]]\n",
      "[[ 2.93386365  3.12782785]\n",
      " [-2.94737575  3.3263781 ]]\n",
      "sseSplit, and notSplit:  77.59224931775066 29.15724944412535\n",
      "the bestCentToSplit is:  1\n",
      "the len of bestClustAss is:  40\n"
     ]
    }
   ],
   "source": [
    "cenList, myNewAssments = kMeans.biKmeans(datMat2, 3)"
   ]
  },
  {
   "cell_type": "code",
   "execution_count": 19,
   "id": "fca994a3",
   "metadata": {},
   "outputs": [
    {
     "data": {
      "text/plain": [
       "matrix([[-0.45965615, -2.7782156 ],\n",
       "        [ 2.93386365,  3.12782785],\n",
       "        [-2.94737575,  3.3263781 ]])"
      ]
     },
     "execution_count": 19,
     "metadata": {},
     "output_type": "execute_result"
    }
   ],
   "source": [
    "cenList"
   ]
  },
  {
   "cell_type": "code",
   "execution_count": 21,
   "id": "dd28000a",
   "metadata": {},
   "outputs": [
    {
     "data": {
      "text/plain": [
       "matrix([[1.        , 0.14546105],\n",
       "        [2.        , 0.68021383],\n",
       "        [0.        , 1.02184582],\n",
       "        [1.        , 1.3454876 ]])"
      ]
     },
     "execution_count": 21,
     "metadata": {},
     "output_type": "execute_result"
    }
   ],
   "source": [
    "myNewAssments[0:4,]"
   ]
  },
  {
   "cell_type": "code",
   "execution_count": 22,
   "id": "2510824c",
   "metadata": {},
   "outputs": [
    {
     "data": {
      "image/png": "[encoded data removed]",
      "text/plain": [
       "<Figure size 432x288 with 1 Axes>"
      ]
     },
     "metadata": {
      "needs_background": "light"
     },
     "output_type": "display_data"
    }
   ],
   "source": [
    "import matplotlib.pyplot as plt\n",
    "fig = plt.figure()\n",
    "ax = fig.add_subplot(111)\n",
    "ax.scatter(datMat2[:,0].flatten().A[0], datMat2[:,1].flatten().A[0], c=myNewAssments[:,0].flatten().A[0])\n",
    "ax.scatter(cenList[:,0].flatten().A[0], cenList[:,1].flatten().A[0], marker='^', c='r')\n",
    "plt.show()"
   ]
  },
  {
   "cell_type": "markdown",
   "id": "a626f9fa",
   "metadata": {},
   "source": [
    "# 小结\n",
    "\n",
    "k均值聚类能够无偏地将数据集划分成k个类。\n",
    "\n",
    "Bisecting K-means是一种自上而下的聚类方法，有些情况会有更好的聚类效果"
   ]
  }
 ],
 "metadata": {
  "kernelspec": {
   "display_name": "Python 3 (ipykernel)",
   "language": "python",
   "name": "python3"
  },
  "language_info": {
   "codemirror_mode": {
    "name": "ipython",
    "version": 3
   },
   "file_extension": ".py",
   "mimetype": "text/x-python",
   "name": "python",
   "nbconvert_exporter": "python",
   "pygments_lexer": "ipython3",
   "version": "3.9.7"
  }
 },
 "nbformat": 4,
 "nbformat_minor": 5
}
